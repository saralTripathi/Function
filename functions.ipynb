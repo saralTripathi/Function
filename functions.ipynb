{
  "nbformat": 4,
  "nbformat_minor": 0,
  "metadata": {
    "colab": {
      "provenance": []
    },
    "kernelspec": {
      "name": "python3",
      "display_name": "Python 3"
    },
    "language_info": {
      "name": "python"
    }
  },
  "cells": [
    {
      "cell_type": "markdown",
      "source": [
        "1. What is the difference between a function and a method in Python?\n",
        "\n",
        "    - Function:\n",
        "    -A function is a block of code that is defined using the def keyword and can be called independently. It can be used to perform a specific task or computation.\n",
        "\n",
        "    -Functions can be defined outside of any class and can be called with or without parameters.\n"
      ],
      "metadata": {
        "id": "M-9F1jsX6L2_"
      }
    },
    {
      "cell_type": "code",
      "source": [
        "#example\n",
        "def add(a, b):\n",
        "    return a + b\n"
      ],
      "metadata": {
        "id": "0kqL2isF8EoJ"
      },
      "execution_count": null,
      "outputs": []
    },
    {
      "cell_type": "markdown",
      "source": [
        "  Method:\n",
        "\n",
        "  - A method is a function that is associated with an object, typically defined within a class. It operates on instances of the class and is called using the object (or class) that it belongs to.\n",
        "\n",
        "\n",
        "  - Methods often take the instance (self) as their first parameter, allowing them to access and modify the object's state."
      ],
      "metadata": {
        "id": "bv8xuw0H8KWN"
      }
    },
    {
      "cell_type": "code",
      "source": [
        "#example\n",
        "class Calculator:\n",
        "    def add(self, a, b):\n",
        "        return a + b\n",
        "\n",
        "calc = Calculator()\n",
        "print(calc.add(3, 4))  # Calling the method on the instance 'calc'\n"
      ],
      "metadata": {
        "id": "6ZXxYfQN8nlO"
      },
      "execution_count": null,
      "outputs": []
    },
    {
      "cell_type": "markdown",
      "source": [
        "2. Explain the concept of function arguments and parameters in Python.\n",
        "\n",
        "   - In Python, function arguments and parameters are fundamental concepts that determine how data is passed to and handled by functions.\n",
        "\n",
        "   1.parameters\n",
        "\n",
        "      - Parameters are the variables listed in the function definition. They act as placeholders for the values (or data) that you pass into the function when calling it.\n",
        "\n",
        "  2.Arguments\n",
        "\n",
        "      - Arguments are the actual values you pass to a function when calling it. They are assigned to the corresponding parameters.\n"
      ],
      "metadata": {
        "id": "eEa5HnaL889o"
      }
    },
    {
      "cell_type": "code",
      "source": [
        "#parameters example\n",
        "def greet(name, age):  # 'name' and 'age' are parameters\n",
        "    print(f\"Hello {name}, you are {age} years old.\")\n",
        "\n",
        "#arguments example\n",
        "greet(\"Alice\", 25)  # \"Alice\" is the first argument, \"25\" is the second argument"
      ],
      "metadata": {
        "id": "uR0F1KtG-Qzq"
      },
      "execution_count": null,
      "outputs": []
    },
    {
      "cell_type": "markdown",
      "source": [
        "3.  What are the different ways to define and call a function in Python?\n",
        "\n",
        "     - In Python, there are several ways to define and call a function:\n",
        "\n",
        "     (i). Basic Function Definition and Call:\n",
        "\n",
        "          - Define: Use def followed by function name and parameters.\n",
        "\n",
        "          -  Call: Use the function name with arguments.\n",
        "\n",
        "      (ii).Function with Return Value:\n",
        "\n",
        "          - Define: Use return to send back a value.\n",
        "\n",
        "          - Call: Capture the returned value.\n",
        "\n",
        "      (iii).Default Arguments:\n",
        "\n",
        "          - Define: Assign default values to parameters.\n",
        "               \n",
        "          - Call: You can omit default arguments.\n",
        "\n",
        "      (iv). Variable-Length Arguments (* args, **kwargs):\n",
        "\n",
        "          - Define: Use *args for variable positional arguments and **kwargs for variable keyword arguments.\n",
        "\n",
        "          - Call: Pass any number of arguments.\n",
        "\n",
        "      (v).  Lambda Function (Anonymous Function):\n",
        "\n",
        "          - Define: Use the lambda keyword.\n",
        "          - Call: Call like a regular function.\n",
        "\n"
      ],
      "metadata": {
        "id": "lgUzeCmR-dCe"
      }
    },
    {
      "cell_type": "code",
      "source": [
        "#ex-(i)\n",
        "def greet(name):\n",
        "    print(f\"Hello {name}\")\n",
        "\n",
        "greet(\"Alice\")\n",
        "#ex-(ii)\n",
        "def add(a, b):\n",
        "    return a + b\n",
        "\n",
        "result = add(3, 4)\n",
        "#ex-(iii)\n",
        "def greet(name, age=18):\n",
        "    print(f\"Hello {name}, you are {age}\")\n",
        "\n",
        "greet(\"Bob\")\n",
        "#ex-(iv)\n",
        "def print_all(*args, **kwargs):\n",
        "    print(args)\n",
        "    print(kwargs)\n",
        "\n",
        "print_all(1, 2, 3, name=\"Alice\", age=25)\n",
        "#ex-(v)\n",
        "add = lambda x, y: x + y\n",
        "result = add(3, 4)\n"
      ],
      "metadata": {
        "id": "Ayu6x8OkAjV5"
      },
      "execution_count": null,
      "outputs": []
    },
    {
      "cell_type": "markdown",
      "source": [
        "4. What is the purpose of the `return` statement in a Python function?\n",
        "\n",
        "  - The return statement in a Python function serves two main purposes:\n",
        "  \n",
        "     - 1.Returning a Value\n",
        "     - 2.Exiting the Function Early"
      ],
      "metadata": {
        "id": "lZD5fE7FBGjA"
      }
    },
    {
      "cell_type": "code",
      "source": [
        "#ex- 1.\n",
        "def add(a, b):\n",
        "    return a + b\n",
        "\n",
        "result = add(3, 4)  # 'result' will store the value 7\n",
        "print(result)  # Outputs: 7\n",
        "# ex- 2.\n",
        "def greet(name):\n",
        "    if name == \"Alice\":\n",
        "        return \"Hello Alice!\"  # Exits function early\n",
        "    return \"Hello, Stranger\"\n",
        "\n",
        "print(greet(\"Alice\"))  # Outputs: Hello Alice!\n",
        "print(greet(\"Bob\"))  # Outputs: Hello, Stranger\n"
      ],
      "metadata": {
        "id": "07PYaYjNAjsH"
      },
      "execution_count": null,
      "outputs": []
    },
    {
      "cell_type": "markdown",
      "source": [
        "5.  What are iterators in Python and how do they differ from iterables?\n",
        "\n",
        "     - In Python, the terms iterator and iterable refer to two closely related but distinct concepts in the context of loops and data traversal. Here’s a breakdown of each:\n",
        "     -\n",
        "        An iterable is any object in Python that can return an iterator. Essentially, it’s anything that can be looped over using a for loop or that can be passed to the iter() function. Iterables include objects like lists, tuples, strings, sets, and dictionaries.\n",
        "     - An iterator is an object that represents a stream of data; it keeps track of the current state as it traverses through an iterable. An iterator is responsible for providing the next item in the sequence upon request and raising a StopIteration exception when no more items are available.\n",
        "\n"
      ],
      "metadata": {
        "id": "U5t4QAZzCwro"
      }
    },
    {
      "cell_type": "code",
      "source": [
        "#ex>> iterable\n",
        "my_list = [1, 2, 3]\n",
        "for item in my_list:\n",
        "    print(item)\n",
        "\n",
        "\n",
        "#ex>> Iterator\n",
        "my_list = [1, 2, 3]\n",
        "my_iter = iter(my_list)\n",
        "\n",
        "print(next(my_iter))  # Output: 1\n",
        "print(next(my_iter))  # Output: 2\n",
        "print(next(my_iter))  # Output: 3\n",
        "print(next(my_iter))  # Raises StopIteration\n"
      ],
      "metadata": {
        "id": "T0j_M83nJ9Wx"
      },
      "execution_count": null,
      "outputs": []
    },
    {
      "cell_type": "markdown",
      "source": [
        "6. Explain the concept of generators in Python and how they are defined.\n",
        "\n",
        "   - A generator in Python is a special type of iterator that is defined using a function with the yield keyword instead of return. When called, a generator function doesn’t execute immediately but returns a generator object, which can be iterated over\n",
        "   - Generators produce items one at a time\n",
        "   - When a generator function yields a value, it pauses its state and can resume where it left off on the next iteration."
      ],
      "metadata": {
        "id": "V7fQFZyMKM8j"
      }
    },
    {
      "cell_type": "code",
      "source": [
        "#Defiing Generator\n",
        "def square_generator(n):\n",
        "    for i in range(n):\n",
        "        yield i ** 2\n",
        "\n",
        "# Using the generator\n",
        "my_generator = square_generator(5)\n",
        "for square in my_generator:\n",
        "    print(square)\n"
      ],
      "metadata": {
        "id": "CdTxnSpeKweK"
      },
      "execution_count": null,
      "outputs": []
    },
    {
      "cell_type": "markdown",
      "source": [
        "7. What are the advantages of using generators over regular functions?\\\n",
        "\n",
        "   - The main advantages of generators over regular functions are:\n",
        "\n",
        "  - 1. Memory Efficiency: Generators produce items one at a time, without storing the entire sequence in memory, making them ideal for large datasets or infinite sequences.\n",
        "\n",
        "  - 2.Lazy Evaluation: They only generate values when needed, improving performance by avoiding unnecessary computations.\n",
        "\n",
        " - 3.Stateful Iteration: Generators keep track of their state between calls, allowing them to resume from where they left off without recomputing previous values.\n",
        "\n",
        "  - 4.Cleaner Code: Generators simplify code by removing the need to manually manage iteration or accumulate results in lists.\n",
        "\n",
        " - 5.Infinite Sequences: They can handle infinite sequences without consuming infinite memory, as they only produce values on demand."
      ],
      "metadata": {
        "id": "-WJQKhmHK6ms"
      }
    },
    {
      "cell_type": "markdown",
      "source": [
        "8. What is a lambda function in Python and when is it typically used?\n",
        "  \n",
        "  - A lambda function in Python is a small, anonymous function defined with the lambda keyword. It can take any number of arguments but only has one expression.\n",
        "\n",
        "  - When to use:\n",
        "\n",
        "    -  Short functions: When you need a small function for a short period and don’t want to formally define it with def.\n",
        "    - Functional programming: Often used with functions like map(), filter(), and reduce() where a small function is needed to process elements."
      ],
      "metadata": {
        "id": "M1w0CcBnL9mx"
      }
    },
    {
      "cell_type": "code",
      "source": [
        "#ex-\n",
        "\n",
        "add = lambda x, y: x + y\n",
        "print(add(2, 3))  # Output: 5\n",
        "\n",
        "numbers = [1, 2, 3, 4]\n",
        "squared = list(map(lambda x: x**2, numbers))\n",
        "print(squared)  # Output: [1, 4, 9, 16]\n"
      ],
      "metadata": {
        "id": "SNHbun1gK6Ah"
      },
      "execution_count": null,
      "outputs": []
    },
    {
      "cell_type": "markdown",
      "source": [
        "9. Explain the purpose and usage of the `map()` function in Python.\n",
        "   \n",
        " - The map() function in Python is used to apply a given function to all items\n",
        " in an iterable (like a list, tuple, etc.) and return a map object (which is an\n",
        " iterator) that yields the results.\n",
        " - To transform or modify each element of an iterable without the need for a loop.\n",
        " - It provides a concise way to apply a function to each element in an iterable."
      ],
      "metadata": {
        "id": "m2HLhabedMMG"
      }
    },
    {
      "cell_type": "code",
      "source": [
        "#ex-\n",
        "numbers = [1, 2, 3, 4]\n",
        "squared = map(lambda x: x ** 2, numbers)\n",
        "print(list(squared))  # Output: [1, 4, 9, 16]\n"
      ],
      "metadata": {
        "id": "18LOxlNcf9eo"
      },
      "execution_count": null,
      "outputs": []
    },
    {
      "cell_type": "markdown",
      "source": [
        "10. What is the difference between `map()`, `reduce()`, and `filter()` functions in Python?\n",
        "\n",
        "   -\n",
        "The map(), reduce(), and filter() functions in Python are all used to process iterables in functional programming style, but they differ in how they operate and their output\n",
        "  - 1. map():\n",
        "\n",
        "       -  Apply a function to each item in an iterable and return an iterator of the results\n",
        "\n",
        "  - 2.filter():\n",
        "     \n",
        "       - Apply a function to each item in an iterable, but only include those elements for which the function returns True.\n",
        "\n",
        "  - 3.reduce():\n",
        "\n",
        "      - Apply a function cumulatively to the items of an iterable (from left to right) to reduce the iterable to a single value."
      ],
      "metadata": {
        "id": "1DggSkwOgDOt"
      }
    },
    {
      "cell_type": "code",
      "source": [
        "#ex>>map():\n",
        "numbers = [1, 2, 3, 4]\n",
        "squared = map(lambda x: x ** 2, numbers)\n",
        "print(list(squared))\n",
        "\n",
        "#ex>>filter():\n",
        "numbers = [1, 2, 3, 4]\n",
        "even = filter(lambda x: x % 2 == 0, numbers)\n",
        "print(list(even))\n",
        "\n",
        "#ex>> reduce():\n",
        "from functools import reduce\n",
        "numbers = [1, 2, 3, 4]\n",
        "product = reduce(lambda x, y: x * y, numbers)\n",
        "print(product)  # Output: 24 (1 * 2 * 3 * 4)\n"
      ],
      "metadata": {
        "id": "fbW7PrdSigoe"
      },
      "execution_count": null,
      "outputs": []
    },
    {
      "cell_type": "markdown",
      "source": [
        "11.  Using pen & Paper write the internal mechanism for sum operation using  reduce function on this given\n",
        "list:[47,11,42,13];"
      ],
      "metadata": {
        "id": "jEk1Z8_fizOs"
      }
    },
    {
      "cell_type": "code",
      "source": [
        "# 1. Write a Python function that takes a list of numbers as input and returns the sum of all even numbers inthe list.\n",
        "def sum_even_numbers(numbers):\n",
        "\n",
        "    return sum(num for num in numbers if num % 2 == 0)\n",
        "numbers = [47, 11, 42, 13]\n",
        "result = sum_even_numbers(numbers)\n",
        "print(result)\n"
      ],
      "metadata": {
        "id": "uv5pqInyf5Tu",
        "colab": {
          "base_uri": "https://localhost:8080/"
        },
        "outputId": "b839c4be-8653-4b11-9739-934c15a9ccb0"
      },
      "execution_count": 19,
      "outputs": [
        {
          "output_type": "stream",
          "name": "stdout",
          "text": [
            "42\n"
          ]
        }
      ]
    },
    {
      "cell_type": "code",
      "source": [
        "# 2.Create a Python function that accepts a string and returns the reverse of that string.\n",
        "def reverse_string(input_string):\n",
        "    return input_string[::-1]\n",
        "\n",
        "# Example usage:\n",
        "string_to_reverse = \"Hello, World!\"\n",
        "reversed_string = reverse_string(string_to_reverse)\n",
        "print(reversed_string)"
      ],
      "metadata": {
        "colab": {
          "base_uri": "https://localhost:8080/"
        },
        "id": "-1Mkv3hQrYYr",
        "outputId": "b4fde212-6e54-4173-aadb-4af753d302ba"
      },
      "execution_count": 21,
      "outputs": [
        {
          "output_type": "stream",
          "name": "stdout",
          "text": [
            "!dlroW ,olleH\n"
          ]
        }
      ]
    },
    {
      "cell_type": "code",
      "source": [
        "# 3. Implement a Python function that takes a list of integers and returns a new list containing the squares of each number.\n",
        "def square_numbers(numbers):\n",
        "    return [num ** 2 for num in numbers]\n",
        "\n",
        "# Example usage:\n",
        "numbers = [1, 2, 3, 4, 5]\n",
        "squared_numbers = square_numbers(numbers)\n",
        "print(squared_numbers)\n"
      ],
      "metadata": {
        "colab": {
          "base_uri": "https://localhost:8080/"
        },
        "id": "fKO4urqjrifh",
        "outputId": "461e3631-60ed-4a84-8fb1-32e13321f27a"
      },
      "execution_count": 22,
      "outputs": [
        {
          "output_type": "stream",
          "name": "stdout",
          "text": [
            "[1, 4, 9, 16, 25]\n"
          ]
        }
      ]
    },
    {
      "cell_type": "code",
      "source": [
        "# 4.  Write a Python function that checks if a given number is prime or not from 1 to 200\n",
        "def is_prime(n):\n",
        "\n",
        "    if n < 2:\n",
        "        return False\n",
        "\n",
        "\n",
        "    for i in range(2, int(n**0.5) + 1):\n",
        "        if n % i == 0:\n",
        "            return False\n",
        "\n",
        "    return True\n",
        "\n",
        "\n",
        "for num in range(1, 201):\n",
        "    if is_prime(num):\n",
        "        print(num, \"is a prime number.\")\n"
      ],
      "metadata": {
        "colab": {
          "base_uri": "https://localhost:8080/"
        },
        "id": "zPQjgqBbr3Eu",
        "outputId": "30023b15-84e9-4445-8d86-721c84f61226"
      },
      "execution_count": 23,
      "outputs": [
        {
          "output_type": "stream",
          "name": "stdout",
          "text": [
            "2 is a prime number.\n",
            "3 is a prime number.\n",
            "5 is a prime number.\n",
            "7 is a prime number.\n",
            "11 is a prime number.\n",
            "13 is a prime number.\n",
            "17 is a prime number.\n",
            "19 is a prime number.\n",
            "23 is a prime number.\n",
            "29 is a prime number.\n",
            "31 is a prime number.\n",
            "37 is a prime number.\n",
            "41 is a prime number.\n",
            "43 is a prime number.\n",
            "47 is a prime number.\n",
            "53 is a prime number.\n",
            "59 is a prime number.\n",
            "61 is a prime number.\n",
            "67 is a prime number.\n",
            "71 is a prime number.\n",
            "73 is a prime number.\n",
            "79 is a prime number.\n",
            "83 is a prime number.\n",
            "89 is a prime number.\n",
            "97 is a prime number.\n",
            "101 is a prime number.\n",
            "103 is a prime number.\n",
            "107 is a prime number.\n",
            "109 is a prime number.\n",
            "113 is a prime number.\n",
            "127 is a prime number.\n",
            "131 is a prime number.\n",
            "137 is a prime number.\n",
            "139 is a prime number.\n",
            "149 is a prime number.\n",
            "151 is a prime number.\n",
            "157 is a prime number.\n",
            "163 is a prime number.\n",
            "167 is a prime number.\n",
            "173 is a prime number.\n",
            "179 is a prime number.\n",
            "181 is a prime number.\n",
            "191 is a prime number.\n",
            "193 is a prime number.\n",
            "197 is a prime number.\n",
            "199 is a prime number.\n"
          ]
        }
      ]
    },
    {
      "cell_type": "code",
      "source": [
        "# 5. Create an iterator class in Python that generates the Fibonacci sequence up to a specified number of terms.\n",
        "class FibonacciIterator:\n",
        "    def __init__(self, num_terms):\n",
        "        self.num_terms = num_terms\n",
        "        self.a, self.b = 0, 1\n",
        "        self.count = 0\n",
        "\n",
        "    def __iter__(self):\n",
        "        return self\n",
        "\n",
        "    def __next__(self):\n",
        "        if self.count < self.num_terms:\n",
        "            fib_num = self.a\n",
        "            self.a, self.b = self.b, self.a + self.b\n",
        "            self.count += 1\n",
        "            return fib_num\n",
        "        else:\n",
        "            raise StopIteration\n",
        "\n",
        "\n",
        "fib = FibonacciIterator(10)\n",
        "for num in fib:\n",
        "    print(num)\n",
        "\n"
      ],
      "metadata": {
        "colab": {
          "base_uri": "https://localhost:8080/"
        },
        "id": "kEHwMPgpsAid",
        "outputId": "29dbad55-6f13-4edc-f477-fcdc3d29824c"
      },
      "execution_count": 24,
      "outputs": [
        {
          "output_type": "stream",
          "name": "stdout",
          "text": [
            "0\n",
            "1\n",
            "1\n",
            "2\n",
            "3\n",
            "5\n",
            "8\n",
            "13\n",
            "21\n",
            "34\n"
          ]
        }
      ]
    },
    {
      "cell_type": "code",
      "source": [
        "# 6.Write a generator function in Python that yields the powers of 2 up to a given exponent\n",
        "def power_of_two(exponent):\n",
        "    for i in range(exponent + 1):\n",
        "        yield 2 ** i\n",
        "\n",
        "\n",
        "for power in power_of_two(5):\n",
        "    print(power)"
      ],
      "metadata": {
        "colab": {
          "base_uri": "https://localhost:8080/"
        },
        "id": "V4Now2WIsOkr",
        "outputId": "e33b926a-a417-4098-c8ae-d157ea9074ea"
      },
      "execution_count": 25,
      "outputs": [
        {
          "output_type": "stream",
          "name": "stdout",
          "text": [
            "1\n",
            "2\n",
            "4\n",
            "8\n",
            "16\n",
            "32\n"
          ]
        }
      ]
    },
    {
      "cell_type": "code",
      "source": [
        "# 7.Implement a generator function that reads a file line by line and yields each line as a string.\n",
        "def read_file_lines(file_path):\n",
        "    #with open(file_path, 'r') as file:\n",
        "        for line in file:\n",
        "            yield line\n",
        "\n",
        "\n",
        "for line in read_file_lines('example.txt'):\n",
        "    print(line.strip())\n",
        "\n"
      ],
      "metadata": {
        "id": "5d9haO-7sUuD"
      },
      "execution_count": null,
      "outputs": []
    },
    {
      "cell_type": "code",
      "source": [
        "# 8.Use a lambda function in Python to sort a list of tuples based on the second element of each tuple.\n",
        "data = [(1, 5), (3, 2), (2, 8), (4, 1)]\n",
        "sorted_data = sorted(data, key=lambda x: x[1])\n",
        "print(sorted_data)"
      ],
      "metadata": {
        "colab": {
          "base_uri": "https://localhost:8080/"
        },
        "id": "PSyvUeDDscMa",
        "outputId": "d43560fc-33c8-417d-efab-e0f0330e92d0"
      },
      "execution_count": 27,
      "outputs": [
        {
          "output_type": "stream",
          "name": "stdout",
          "text": [
            "[(4, 1), (3, 2), (1, 5), (2, 8)]\n"
          ]
        }
      ]
    },
    {
      "cell_type": "code",
      "source": [
        "# 9. Write a Python program that uses `map()` to convert a list of temperatures from Celsius to Fahrenheit\n",
        "\n",
        "def celsius_to_fahrenheit(celsius):\n",
        "    return (celsius * 9/5) + 32\n",
        "\n",
        "celsius_temperatures = [0, 20, 25, 30, 35]\n",
        "\n",
        "fahrenheit_temperatures = list(map(celsius_to_fahrenheit, celsius_temperatures))\n",
        "\n",
        "print(fahrenheit_temperatures)\n",
        "\n"
      ],
      "metadata": {
        "colab": {
          "base_uri": "https://localhost:8080/"
        },
        "id": "jNXVirMIs7in",
        "outputId": "60dd6152-4a77-4952-bfa1-7e9fda2139cf"
      },
      "execution_count": 28,
      "outputs": [
        {
          "output_type": "stream",
          "name": "stdout",
          "text": [
            "[32.0, 68.0, 77.0, 86.0, 95.0]\n"
          ]
        }
      ]
    },
    {
      "cell_type": "code",
      "source": [
        "# 10.  Create a Python program that uses `filter()` to remove all the vowels from a given string.\n",
        "def remove_vowels(string):\n",
        "    vowels = 'aeiouAEIOU'\n",
        "    return ''.join(filter(lambda x: x not in vowels, string))\n",
        "\n",
        "input_string = \"Hello, World!\"\n",
        "result = remove_vowels(input_string)\n",
        "print(result)"
      ],
      "metadata": {
        "colab": {
          "base_uri": "https://localhost:8080/"
        },
        "id": "4GbkZZ3ctNoF",
        "outputId": "d8156a34-18b7-4f74-d20d-14bce0f5db17"
      },
      "execution_count": 30,
      "outputs": [
        {
          "output_type": "stream",
          "name": "stdout",
          "text": [
            "Hll, Wrld!\n"
          ]
        }
      ]
    },
    {
      "cell_type": "code",
      "source": [],
      "metadata": {
        "id": "m09-D2fDtTt0"
      },
      "execution_count": null,
      "outputs": []
    }
  ]
}